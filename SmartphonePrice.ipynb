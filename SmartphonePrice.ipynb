{
  "nbformat": 4,
  "nbformat_minor": 0,
  "metadata": {
    "colab": {
      "provenance": []
    },
    "kernelspec": {
      "name": "python3",
      "display_name": "Python 3"
    },
    "language_info": {
      "name": "python"
    }
  },
  "cells": [
    {
      "cell_type": "code",
      "execution_count": 121,
      "metadata": {
        "colab": {
          "base_uri": "https://localhost:8080/"
        },
        "id": "mJdPku88MbFH",
        "outputId": "8b37398b-f6ff-440a-a287-648030943055"
      },
      "outputs": [
        {
          "output_type": "stream",
          "name": "stdout",
          "text": [
            "    brand             model           colour  original_price  \\\n",
            "0    VIVO      VIVO T1 44W        Starry Sky           19990   \n",
            "1   APPLE  APPLE IPHONE 11             White           48900   \n",
            "2    VIVO      VIVO T1 44W   Midnight Galaxy           20990   \n",
            "3  XIAOMI       POCO M4 5G       Power Black           15999   \n",
            "4  XIAOMI         REDMI 10   Caribbean Green           14999   \n",
            "\n",
            "   discounted_price  ratings  rating_count  reviews  memory  storage  \\\n",
            "0             14499      4.5         87331     6044     4.0    128.0   \n",
            "1             47199      4.6        184191    10818     NaN    128.0   \n",
            "2             15999      4.4         51365     3750     6.0    128.0   \n",
            "3             11999      4.2         53448     4185     4.0     64.0   \n",
            "4              9299      4.3        187787    12084     4.0     64.0   \n",
            "\n",
            "                 processor        rear_camera front_camera  display_size  \\\n",
            "0  Qualcomm Snapdragon 680  50MP + 2MP + 2MP          16MP         16.36   \n",
            "1            A Bionic Chip       12MP + 12MP          12MP         15.49   \n",
            "2  Qualcomm Snapdragon 680  50MP + 2MP + 2MP          16MP         16.36   \n",
            "3   Mediatek Dimensity 700        50MP + 2MP           8MP         16.71   \n",
            "4  Qualcomm Snapdragon 680        50MP + 2MP           5MP         17.02   \n",
            "\n",
            "   battery_capacity     battery_type  \n",
            "0            5000.0          Lithium  \n",
            "1               NaN              NaN  \n",
            "2            5000.0          Lithium  \n",
            "3            5000.0  Lithium Polymer  \n",
            "4            6000.0  Lithium Polymer  \n"
          ]
        }
      ],
      "source": [
        "import pandas as pd\n",
        "\n",
        "dt = pd.read_csv(\"flipkart_smartphones.csv\")\n",
        "print(dt.head())"
      ]
    },
    {
      "cell_type": "markdown",
      "source": [
        "**O que é o projeto?**\n",
        "Um algoritmo que prevê o preço de um celular com base em algumas informações:\n",
        "Marca, cor, tamanho da tela, avaliações e tipo de bateria"
      ],
      "metadata": {
        "id": "IGVJyKrwSKbZ"
      }
    },
    {
      "cell_type": "code",
      "source": [
        "dt.columns"
      ],
      "metadata": {
        "colab": {
          "base_uri": "https://localhost:8080/"
        },
        "id": "VeIXD07SSvUf",
        "outputId": "3875f1b9-0bcb-40a3-9d8e-c1a8950c8c8e"
      },
      "execution_count": 122,
      "outputs": [
        {
          "output_type": "execute_result",
          "data": {
            "text/plain": [
              "Index(['brand', 'model', 'colour', 'original_price', 'discounted_price',\n",
              "       'ratings', 'rating_count', 'reviews', 'memory', 'storage', 'processor',\n",
              "       'rear_camera', 'front_camera', 'display_size', 'battery_capacity',\n",
              "       'battery_type'],\n",
              "      dtype='object')"
            ]
          },
          "metadata": {},
          "execution_count": 122
        }
      ]
    },
    {
      "cell_type": "code",
      "source": [
        "df_encoded = pd.get_dummies(dt['brand'], prefix='Marca')\n",
        "\n",
        "# Concatena o DataFrame original com o DataFrame resultante do one-hot encoding\n",
        "dt = pd.concat([dt, df_encoded], axis=1)\n",
        "\n",
        "df_encoded = pd.get_dummies(dt['colour'], prefix='Cor')\n",
        "\n",
        "# Concatena o DataFrame original com o DataFrame resultante do one-hot encoding\n",
        "dt = pd.concat([dt, df_encoded], axis=1)\n",
        "\n",
        "\n",
        "# Imprime o DataFrame final\n",
        "print(dt)"
      ],
      "metadata": {
        "colab": {
          "base_uri": "https://localhost:8080/"
        },
        "id": "asmeolyhUGY7",
        "outputId": "9ff38a55-1849-4f47-ed51-af7075868e6a"
      },
      "execution_count": 123,
      "outputs": [
        {
          "output_type": "stream",
          "name": "stdout",
          "text": [
            "      brand             model               colour  original_price  \\\n",
            "0      VIVO      VIVO T1 44W            Starry Sky           19990   \n",
            "1     APPLE  APPLE IPHONE 11                 White           48900   \n",
            "2      VIVO      VIVO T1 44W       Midnight Galaxy           20990   \n",
            "3    XIAOMI       POCO M4 5G           Power Black           15999   \n",
            "4    XIAOMI         REDMI 10       Caribbean Green           14999   \n",
            "..      ...               ...                  ...             ...   \n",
            "831  REALME  REALME GT NEO 2              NEO Blue           38999   \n",
            "832  REALME  REALME GT NEO 2             NEO Black           38999   \n",
            "833  REALME  REALME GT NEO 2             NEO Black           34999   \n",
            "834  REALME   REALME X50 PRO              Rust Red           17999   \n",
            "835  XIAOMI      POCO M2 PRO   Two Shades of Black           17999   \n",
            "\n",
            "     discounted_price  ratings  rating_count  reviews  memory  storage  ...  \\\n",
            "0               14499      4.5         87331     6044     4.0    128.0  ...   \n",
            "1               47199      4.6        184191    10818     NaN    128.0  ...   \n",
            "2               15999      4.4         51365     3750     6.0    128.0  ...   \n",
            "3               11999      4.2         53448     4185     4.0     64.0  ...   \n",
            "4                9299      4.3        187787    12084     4.0     64.0  ...   \n",
            "..                ...      ...           ...      ...     ...      ...  ...   \n",
            "831             35999      4.4          4430      628     NaN    256.0  ...   \n",
            "832             35999      4.4          4430      628     NaN    256.0  ...   \n",
            "833             31999      4.4         18194     2478     8.0    128.0  ...   \n",
            "834             41999      4.4          8689     1232     8.0    128.0  ...   \n",
            "835             17999      4.4        350744    33202     6.0     64.0  ...   \n",
            "\n",
            "    Cor_Vintage Bronze Cor_Vinyl Black Cor_Volcanic Grey  Cor_Warm Grey  \\\n",
            "0                    0               0                 0              0   \n",
            "1                    0               0                 0              0   \n",
            "2                    0               0                 0              0   \n",
            "3                    0               0                 0              0   \n",
            "4                    0               0                 0              0   \n",
            "..                 ...             ...               ...            ...   \n",
            "831                  0               0                 0              0   \n",
            "832                  0               0                 0              0   \n",
            "833                  0               0                 0              0   \n",
            "834                  0               0                 0              0   \n",
            "835                  0               0                 0              0   \n",
            "\n",
            "     Cor_Waterfall Blue Cor_Watery Grey  Cor_Wave Green  Cor_White  \\\n",
            "0                     0               0               0          0   \n",
            "1                     0               0               0          1   \n",
            "2                     0               0               0          0   \n",
            "3                     0               0               0          0   \n",
            "4                     0               0               0          0   \n",
            "..                  ...             ...             ...        ...   \n",
            "831                   0               0               0          0   \n",
            "832                   0               0               0          0   \n",
            "833                   0               0               0          0   \n",
            "834                   0               0               0          0   \n",
            "835                   0               0               0          0   \n",
            "\n",
            "     Cor_White Lily  Cor_Yellow  \n",
            "0                 0           0  \n",
            "1                 0           0  \n",
            "2                 0           0  \n",
            "3                 0           0  \n",
            "4                 0           0  \n",
            "..              ...         ...  \n",
            "831               0           0  \n",
            "832               0           0  \n",
            "833               0           0  \n",
            "834               0           0  \n",
            "835               0           0  \n",
            "\n",
            "[836 rows x 410 columns]\n"
          ]
        }
      ]
    },
    {
      "cell_type": "markdown",
      "source": [
        "Excluir colunas desnecessárias"
      ],
      "metadata": {
        "id": "4W-rbbTBVm3M"
      }
    },
    {
      "cell_type": "code",
      "source": [
        "import matplotlib.pyplot as plt\n",
        "dt = dt.drop(\"discounted_price\", axis=1)\n",
        "dt = dt.drop(\"processor\", axis=1)\n",
        "dt = dt.drop(\"model\", axis=1)\n",
        "dt = dt.drop(\"rear_camera\", axis=1)\n",
        "# dt = dt.drop(\"front_camera\", axis=1)\n",
        "dt = dt.drop(\"battery_type\", axis=1)\n",
        "dt = dt.drop(\"colour\", axis=1)\n",
        "dt = dt.drop(\"brand\", axis=1)\n",
        "\n",
        "# dt.isnull().sum()\n",
        "\n",
        "dt.dropna(inplace=True, axis=0)\n",
        "\n",
        "dt.isnull().sum()\n",
        "\n",
        "dt.head()\n",
        "\n",
        "dt.Marca_ONEPLUS = dt.Marca_ONEPLUS.astype(\"float\")\n",
        "dt['front_camera'] = dt['front_camera'].str.extract('(\\d+)').astype(int)\n",
        "\n",
        "dt.plot(x=\"battery_capacity\", y=\"original_price\", kind=\"scatter\")\n",
        "\n",
        "plt.show()\n",
        "\n",
        "dt.shape"
      ],
      "metadata": {
        "colab": {
          "base_uri": "https://localhost:8080/",
          "height": 297
        },
        "id": "AAdiq08GVpiG",
        "outputId": "bda49141-2c04-4ca7-8756-4eeeeebe098d"
      },
      "execution_count": 124,
      "outputs": [
        {
          "output_type": "display_data",
          "data": {
            "text/plain": [
              "<Figure size 432x288 with 1 Axes>"
            ],
            "image/png": "[encoded data removed]"
          },
          "metadata": {
            "needs_background": "light"
          }
        },
        {
          "output_type": "execute_result",
          "data": {
            "text/plain": [
              "(629, 403)"
            ]
          },
          "metadata": {},
          "execution_count": 124
        }
      ]
    },
    {
      "cell_type": "code",
      "source": [
        "dt.columns"
      ],
      "metadata": {
        "colab": {
          "base_uri": "https://localhost:8080/"
        },
        "id": "RY53TMr6ymO8",
        "outputId": "7c298455-29f6-46f8-b692-41e51a2d5738"
      },
      "execution_count": 125,
      "outputs": [
        {
          "output_type": "execute_result",
          "data": {
            "text/plain": [
              "Index(['original_price', 'ratings', 'rating_count', 'reviews', 'memory',\n",
              "       'storage', 'front_camera', 'display_size', 'battery_capacity',\n",
              "       'Marca_APPLE',\n",
              "       ...\n",
              "       'Cor_Vintage Bronze', 'Cor_Vinyl Black', 'Cor_Volcanic Grey',\n",
              "       'Cor_Warm Grey', 'Cor_Waterfall Blue', 'Cor_Watery Grey',\n",
              "       'Cor_Wave Green', 'Cor_White', 'Cor_White Lily', 'Cor_Yellow'],\n",
              "      dtype='object', length=403)"
            ]
          },
          "metadata": {},
          "execution_count": 125
        }
      ]
    },
    {
      "cell_type": "code",
      "source": [
        "from sklearn.model_selection import train_test_split\n",
        "\n",
        "X = dt.drop(\"original_price\", axis=1)\n",
        "y = dt.original_price\n",
        "\n",
        "X_train, X_test, y_train, y_test = train_test_split(X, y, test_size=0.33, random_state=42)"
      ],
      "metadata": {
        "id": "KLOsRfl9c4I_"
      },
      "execution_count": 126,
      "outputs": []
    },
    {
      "cell_type": "code",
      "source": [
        "from sklearn.linear_model import LinearRegression\n",
        "reg = LinearRegression().fit(X_train, y_train)\n",
        "\n",
        "print(\"Score\")\n",
        "\n",
        "print(reg.score(X_train, y_train))\n",
        "\n",
        "# Testando com árvore de decisão\n",
        "\n",
        "from sklearn import tree\n",
        "\n",
        "clf = tree.DecisionTreeClassifier()\n",
        "\n",
        "clf.fit(X_train, y_train)\n",
        "\n",
        "y_pred = clf.predict(X_test)\n",
        "\n",
        "from sklearn.metrics import accuracy_score\n",
        "\n",
        "accuracy = accuracy_score(y_test, y_pred)\n",
        "print(\"Na árvore de decisão: {}\".format(accuracy))\n",
        "\n",
        "## Testando..\n",
        "from sklearn.metrics import mean_absolute_error\n",
        "\n",
        "pr = reg.predict(X_test)\n",
        "print(mean_absolute_error(y_test, pr))"
      ],
      "metadata": {
        "colab": {
          "base_uri": "https://localhost:8080/"
        },
        "id": "pb8Af1vCdNp6",
        "outputId": "33b02d89-62e8-419e-fde5-e222db65c13c"
      },
      "execution_count": 127,
      "outputs": [
        {
          "output_type": "stream",
          "name": "stdout",
          "text": [
            "Score\n",
            "0.9409406776725647\n",
            "Na árvore de decisão: 0.49038461538461536\n",
            "5102.551268251767\n"
          ]
        }
      ]
    },
    {
      "cell_type": "code",
      "source": [
        "# Testando com Random Forest\n",
        "from sklearn.ensemble import RandomForestClassifier\n",
        "\n",
        "rf_model = RandomForestClassifier(n_estimators=100, max_depth=5, random_state=42)\n",
        "rf_model.fit(X_train, y_train)\n",
        "\n",
        "y_pred = rf_model.predict(X_test)\n",
        "\n",
        "accuracy = accuracy_score(y_test, y_pred)\n",
        "print(f\"Acurácia: {accuracy}\")"
      ],
      "metadata": {
        "colab": {
          "base_uri": "https://localhost:8080/"
        },
        "id": "P4SBctUZgl6h",
        "outputId": "affed531-5796-467b-dfbb-fd463bd1507d"
      },
      "execution_count": 128,
      "outputs": [
        {
          "output_type": "stream",
          "name": "stdout",
          "text": [
            "Acurácia: 0.11057692307692307\n"
          ]
        }
      ]
    },
    {
      "cell_type": "code",
      "source": [
        "# Testando com Regressão Logística\n",
        "\n",
        "from sklearn.linear_model import LogisticRegression\n",
        "\n",
        "lr_model = LogisticRegression(solver='liblinear', random_state=42)\n",
        "\n",
        "lr_model.fit(X_train, y_train)\n",
        "\n",
        "y_pred = lr_model.predict(X_test)\n",
        "\n",
        "from sklearn.metrics import accuracy_score\n",
        "\n",
        "accuracy = accuracy_score(y_test, y_pred)\n",
        "print(f\"Acurácia: {accuracy}\")\n"
      ],
      "metadata": {
        "colab": {
          "base_uri": "https://localhost:8080/"
        },
        "id": "ac-dWeTJhRlH",
        "outputId": "d75d93bb-d308-4fe1-ac63-0b7135d4baab"
      },
      "execution_count": 129,
      "outputs": [
        {
          "output_type": "stream",
          "name": "stdout",
          "text": [
            "Acurácia: 0.15384615384615385\n"
          ]
        },
        {
          "output_type": "stream",
          "name": "stderr",
          "text": [
            "/usr/local/lib/python3.8/dist-packages/sklearn/svm/_base.py:1206: ConvergenceWarning: Liblinear failed to converge, increase the number of iterations.\n",
            "  warnings.warn(\n"
          ]
        }
      ]
    },
    {
      "cell_type": "markdown",
      "source": [
        "**Deploy**"
      ],
      "metadata": {
        "id": "RYJqQovPvrrO"
      }
    },
    {
      "cell_type": "code",
      "source": [
        "from joblib import dump\n",
        "dump(reg, \"rege.joblib\")\n",
        "\n",
        "data = {\n",
        "    # \"brand\": [\"APPLE\"],\n",
        "    \"ratings\": [4.5],\n",
        "    # \"colour\": [\"White\"],\n",
        "    \"rating_count\": [30],\n",
        "    # \"review\": [50],\n",
        "    \"memory\": [4.0],\n",
        "    \"storage\": [64.0],\n",
        "    \"front_camera\": [\"15MP\"],\n",
        "    \"battery_capacity\": [6000.0],\n",
        "    \"original_price\": [0]\n",
        "}\n",
        "\n",
        "df = pd.DataFrame(data)\n",
        "\n",
        "# df = pd.read_csv(\"producao.csv\")\n",
        "df = dt"
      ],
      "metadata": {
        "id": "JNZpX-q6vx1D"
      },
      "execution_count": 130,
      "outputs": []
    },
    {
      "cell_type": "code",
      "source": [
        "from joblib import load\n",
        "\n",
        "rr = load(\"rege.joblib\")\n",
        "X = df.drop(\"original_price\", axis=1)\n",
        "y = df.original_price\n",
        "y_pred = rr.predict(X)\n",
        "print(df)\n",
        "df[\"original_price\"] = y_pred\n",
        "print(df.head())\n",
        "\n",
        "import openpyxl\n",
        "\n",
        "df.to_excel(\"resultado.xlsx\", index=False)"
      ],
      "metadata": {
        "colab": {
          "base_uri": "https://localhost:8080/"
        },
        "id": "u6V6KsmV0S0Q",
        "outputId": "2ac786c7-c287-4d7e-836b-5d159a1b04a0"
      },
      "execution_count": 131,
      "outputs": [
        {
          "output_type": "stream",
          "name": "stdout",
          "text": [
            "     original_price  ratings  rating_count  reviews  memory  storage  \\\n",
            "0             19990      4.5         87331     6044     4.0    128.0   \n",
            "2             20990      4.4         51365     3750     6.0    128.0   \n",
            "3             15999      4.2         53448     4185     4.0     64.0   \n",
            "4             14999      4.3        187787    12084     4.0     64.0   \n",
            "5             15999      4.2         53448     4185     4.0     64.0   \n",
            "..              ...      ...           ...      ...     ...      ...   \n",
            "829            8999      4.2          1487       89     2.0     32.0   \n",
            "830           17999      4.5        271179    28996     6.0     64.0   \n",
            "833           34999      4.4         18194     2478     8.0    128.0   \n",
            "834           17999      4.4          8689     1232     8.0    128.0   \n",
            "835           17999      4.4        350744    33202     6.0     64.0   \n",
            "\n",
            "     front_camera  display_size  battery_capacity  Marca_APPLE  ...  \\\n",
            "0              16         16.36            5000.0            0  ...   \n",
            "2              16         16.36            5000.0            0  ...   \n",
            "3               8         16.71            5000.0            0  ...   \n",
            "4               5         17.02            6000.0            0  ...   \n",
            "5               8         16.71            5000.0            0  ...   \n",
            "..            ...           ...               ...          ...  ...   \n",
            "829             8         16.56            6000.0            0  ...   \n",
            "830            20         16.94            4500.0            0  ...   \n",
            "833            16         16.81            5000.0            0  ...   \n",
            "834            32         16.36            4200.0            0  ...   \n",
            "835            16         16.94            5000.0            0  ...   \n",
            "\n",
            "     Cor_Vintage Bronze  Cor_Vinyl Black  Cor_Volcanic Grey  Cor_Warm Grey  \\\n",
            "0                     0                0                  0              0   \n",
            "2                     0                0                  0              0   \n",
            "3                     0                0                  0              0   \n",
            "4                     0                0                  0              0   \n",
            "5                     0                0                  0              0   \n",
            "..                  ...              ...                ...            ...   \n",
            "829                   0                0                  0              0   \n",
            "830                   0                0                  0              0   \n",
            "833                   0                0                  0              0   \n",
            "834                   0                0                  0              0   \n",
            "835                   0                0                  0              0   \n",
            "\n",
            "     Cor_Waterfall Blue  Cor_Watery Grey  Cor_Wave Green  Cor_White  \\\n",
            "0                     0                0               0          0   \n",
            "2                     0                0               0          0   \n",
            "3                     0                0               0          0   \n",
            "4                     0                0               0          0   \n",
            "5                     0                0               0          0   \n",
            "..                  ...              ...             ...        ...   \n",
            "829                   0                0               0          0   \n",
            "830                   0                0               0          0   \n",
            "833                   0                0               0          0   \n",
            "834                   0                0               0          0   \n",
            "835                   0                0               0          0   \n",
            "\n",
            "     Cor_White Lily  Cor_Yellow  \n",
            "0                 0           0  \n",
            "2                 0           0  \n",
            "3                 0           0  \n",
            "4                 0           0  \n",
            "5                 0           0  \n",
            "..              ...         ...  \n",
            "829               0           0  \n",
            "830               0           0  \n",
            "833               0           0  \n",
            "834               0           0  \n",
            "835               0           0  \n",
            "\n",
            "[629 rows x 403 columns]\n",
            "   original_price  ratings  rating_count  reviews  memory  storage  \\\n",
            "0    16653.687507      4.5         87331     6044     4.0    128.0   \n",
            "2    20639.641272      4.4         51365     3750     6.0    128.0   \n",
            "3    13550.648861      4.2         53448     4185     4.0     64.0   \n",
            "4    14999.000001      4.3        187787    12084     4.0     64.0   \n",
            "5    14070.022106      4.2         53448     4185     4.0     64.0   \n",
            "\n",
            "   front_camera  display_size  battery_capacity  Marca_APPLE  ...  \\\n",
            "0            16         16.36            5000.0            0  ...   \n",
            "2            16         16.36            5000.0            0  ...   \n",
            "3             8         16.71            5000.0            0  ...   \n",
            "4             5         17.02            6000.0            0  ...   \n",
            "5             8         16.71            5000.0            0  ...   \n",
            "\n",
            "   Cor_Vintage Bronze  Cor_Vinyl Black  Cor_Volcanic Grey  Cor_Warm Grey  \\\n",
            "0                   0                0                  0              0   \n",
            "2                   0                0                  0              0   \n",
            "3                   0                0                  0              0   \n",
            "4                   0                0                  0              0   \n",
            "5                   0                0                  0              0   \n",
            "\n",
            "   Cor_Waterfall Blue  Cor_Watery Grey  Cor_Wave Green  Cor_White  \\\n",
            "0                   0                0               0          0   \n",
            "2                   0                0               0          0   \n",
            "3                   0                0               0          0   \n",
            "4                   0                0               0          0   \n",
            "5                   0                0               0          0   \n",
            "\n",
            "   Cor_White Lily  Cor_Yellow  \n",
            "0               0           0  \n",
            "2               0           0  \n",
            "3               0           0  \n",
            "4               0           0  \n",
            "5               0           0  \n",
            "\n",
            "[5 rows x 403 columns]\n"
          ]
        }
      ]
    }
  ]
}